{
 "cells": [
  {
   "cell_type": "code",
   "execution_count": 1,
   "id": "720daacb",
   "metadata": {},
   "outputs": [],
   "source": [
    "import pandas as pd\n",
    "import pymongo"
   ]
  },
  {
   "cell_type": "code",
   "execution_count": 22,
   "id": "37d491f9",
   "metadata": {},
   "outputs": [],
   "source": [
    "df = pd.read_csv('data.csv')\n",
    "# df"
   ]
  },
  {
   "cell_type": "code",
   "execution_count": 12,
   "id": "c191fdc8",
   "metadata": {},
   "outputs": [],
   "source": [
    "data = df.to_dict(orient='records')"
   ]
  },
  {
   "cell_type": "code",
   "execution_count": null,
   "id": "d20e0926",
   "metadata": {},
   "outputs": [],
   "source": [
    "DB_NAME = \"Proj1\"\n",
    "COLLECTION_NAME = \"Proj1-Data\"\n",
    "CONNECTION_URL = \"mongodb+srv://<DB_UserName>:<Password>@cluster0.54koftk.mongodb.net/?retryWrites=true&w=majority&appName=Cluster0\""
   ]
  },
  {
   "cell_type": "code",
   "execution_count": 15,
   "id": "e0b9cd72",
   "metadata": {},
   "outputs": [],
   "source": [
    "client = pymongo.MongoClient(CONNECTION_URL)\n",
    "data_base = client[DB_NAME]\n",
    "collection = data_base[COLLECTION_NAME]"
   ]
  },
  {
   "cell_type": "code",
   "execution_count": 19,
   "id": "1f8ee0b7",
   "metadata": {},
   "outputs": [],
   "source": [
    "rec = collection.insert_many(data)"
   ]
  },
  {
   "cell_type": "code",
   "execution_count": 23,
   "id": "3847cc15",
   "metadata": {},
   "outputs": [],
   "source": [
    "# Load back data from mongodb\n",
    "\n",
    "df = pd.DataFrame(list(collection.find()))\n",
    "# df.head(2)"
   ]
  },
  {
   "cell_type": "code",
   "execution_count": null,
   "id": "381220cc",
   "metadata": {},
   "outputs": [],
   "source": []
  }
 ],
 "metadata": {
  "kernelspec": {
   "display_name": "vehicle_insurance",
   "language": "python",
   "name": "python3"
  },
  "language_info": {
   "codemirror_mode": {
    "name": "ipython",
    "version": 3
   },
   "file_extension": ".py",
   "mimetype": "text/x-python",
   "name": "python",
   "nbconvert_exporter": "python",
   "pygments_lexer": "ipython3",
   "version": "3.10.18"
  }
 },
 "nbformat": 4,
 "nbformat_minor": 5
}
